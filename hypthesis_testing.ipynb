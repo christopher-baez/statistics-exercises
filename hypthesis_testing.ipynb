{
 "cells": [
  {
   "cell_type": "markdown",
   "source": [
    "For each of the following questions, formulate a null and alternative hypothesis (be as specific as you can be), then give an example of what a true positive, true negative, type I and type II errors would look like. Note that some of the questions are intentionally phrased in a vague way. It is your job to reword these as more precise questions that could be tested."
   ],
   "metadata": {
    "collapsed": false
   },
   "id": "83bb8206caff6e99"
  },
  {
   "cell_type": "markdown",
   "source": [
    "Has the network latency gone up since we switched internet service providers?"
   ],
   "metadata": {
    "collapsed": false
   },
   "id": "31886fca7e5134cc"
  },
  {
   "cell_type": "markdown",
   "source": [
    "null- switching internet did not affect the latency\n",
    "\n",
    "alternative- switching did affect the internet\n",
    "\n",
    "True Pos- the latency was affected by the switch, and it test proves it\n",
    "\n",
    "True Neg- the latency was no affected by the switch and the test proves it\n",
    "\n",
    "false pos- the test shows there is change and in contrary to the conlcusion\n",
    "\n",
    "false neg- the test shows the is no change, in contrary to the conclusion"
   ],
   "metadata": {
    "collapsed": false
   },
   "id": "c23933cf63813088"
  },
  {
   "cell_type": "markdown",
   "source": [
    "Is the website redesign any good?"
   ],
   "metadata": {
    "collapsed": false
   },
   "id": "9c3c8d311a55feda"
  },
  {
   "cell_type": "markdown",
   "source": [
    "null- the redesign did not affect the amount of clicks in the website\n",
    "\n",
    "alternative- the redesign did affect the amount of clicks in the website\n",
    "\n",
    "True Pos- the amount of clicks did change, and it test proves it\n",
    "\n",
    "True Neg- the amount of clicks not did change and the test proves it\n",
    "\n",
    "false pos- the test shows there is change and in contrary to the conlcusion\n",
    "\n",
    "false neg- the test shows the is no change, in contrary to the conclusion"
   ],
   "metadata": {
    "collapsed": false
   },
   "id": "8fae9cd5f398e0e4"
  },
  {
   "cell_type": "markdown",
   "source": [
    "Is our television ad driving more sales?\n"
   ],
   "metadata": {
    "collapsed": false
   },
   "id": "b72f3a0aa54f94a5"
  },
  {
   "cell_type": "markdown",
   "source": [
    "null - the net profit since the first ad has not changed\n",
    "\n",
    "alternative- the net profit since the first ad has changed\n",
    "\n",
    "True Pos - the companies profit did and the test proves it\n",
    "\n",
    "True Neg - the companies profit has not changeg and the test proves it\n",
    "\n",
    "false pos - the test shows there is change and in contrary to the conlcusion\n",
    "\n",
    "false neg - the test shows the is no change, in contrary to the conclusion"
   ],
   "metadata": {
    "collapsed": false
   },
   "id": "b16d4d3df0a7159f"
  }
 ],
 "metadata": {
  "kernelspec": {
   "display_name": "Python 3",
   "language": "python",
   "name": "python3"
  },
  "language_info": {
   "codemirror_mode": {
    "name": "ipython",
    "version": 2
   },
   "file_extension": ".py",
   "mimetype": "text/x-python",
   "name": "python",
   "nbconvert_exporter": "python",
   "pygments_lexer": "ipython2",
   "version": "2.7.6"
  }
 },
 "nbformat": 4,
 "nbformat_minor": 5
}
