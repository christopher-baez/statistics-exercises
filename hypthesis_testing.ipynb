{
 "cells": [
  {
   "cell_type": "markdown",
   "source": [
    "For each of the following questions, formulate a null and alternative hypothesis (be as specific as you can be), then give an example of what a true positive, true negative, type I and type II errors would look like. Note that some of the questions are intentionally phrased in a vague way. It is your job to reword these as more precise questions that could be tested."
   ],
   "metadata": {
    "collapsed": false
   },
   "id": "83bb8206caff6e99"
  },
  {
   "cell_type": "markdown",
   "source": [
    "Has the network latency gone up since we switched internet service providers?"
   ],
   "metadata": {
    "collapsed": false
   },
   "id": "31886fca7e5134cc"
  },
  {
   "cell_type": "markdown",
   "source": [
    "null- switching internet did not affect the latency\n",
    "\n",
    "alternative- switching did affect the internet\n",
    "\n",
    "True Pos- the latency was affected by the switch, and it test proves it\n",
    "\n",
    "True Neg- the latency was no affected by the switch and the test proves it\n",
    "\n",
    "false pos- the test shows there is change and in contrary to the conlcusion\n",
    "\n",
    "false neg- the test shows the is no change, in contrary to the conclusion"
   ],
   "metadata": {
    "collapsed": false
   },
   "id": "c23933cf63813088"
  },
  {
   "cell_type": "markdown",
   "source": [
    "Is the website redesign any good?"
   ],
   "metadata": {
    "collapsed": false
   },
   "id": "9c3c8d311a55feda"
  },
  {
   "cell_type": "markdown",
   "source": [
    "null- the redesign did not affect the amount of clicks in the website\n",
    "\n",
    "alternative- the redesign did affect the amount of clicks in the website\n",
    "\n",
    "True Pos- the amount of clicks did change, and it test proves it\n",
    "\n",
    "True Neg- the amount of clicks not did change and the test proves it\n",
    "\n",
    "false pos- the test shows there is change and in contrary to the conlcusion\n",
    "\n",
    "false neg- the test shows the is no change, in contrary to the conclusion"
   ],
   "metadata": {
    "collapsed": false
   },
   "id": "8fae9cd5f398e0e4"
  },
  {
   "cell_type": "markdown",
   "source": [
    "Is our television ad driving more sales?\n"
   ],
   "metadata": {
    "collapsed": false
   },
   "id": "b72f3a0aa54f94a5"
  },
  {
   "cell_type": "markdown",
   "source": [
    "null - the net profit since the first ad has not changed\n",
    "\n",
    "alternative- the net profit since the first ad has changed\n",
    "\n",
    "True Pos - the companies profit did and the test proves it\n",
    "\n",
    "True Neg - the companies profit has not changeg and the test proves it\n",
    "\n",
    "false pos - the test shows there is change and in contrary to the conlcusion\n",
    "\n",
    "false neg - the test shows the is no change, in contrary to the conclusion"
   ],
   "metadata": {
    "collapsed": false
   },
   "id": "b16d4d3df0a7159f"
  },
  {
   "cell_type": "code",
   "execution_count": 7,
   "outputs": [],
   "source": [
    "import pandas as pd\n",
    "import numpy as np\n",
    "\n",
    "from pydataset import data\n",
    "\n",
    "from scipy import stats as stats\n",
    "\n",
    "import seaborn as sns\n",
    "import matplotlib.pyplot as plt\n",
    "import datetime"
   ],
   "metadata": {
    "collapsed": false,
    "ExecuteTime": {
     "end_time": "2023-11-16T22:56:03.508187Z",
     "start_time": "2023-11-16T22:56:03.430289Z"
    }
   },
   "id": "13a153b052245787"
  },
  {
   "cell_type": "code",
   "execution_count": 117,
   "outputs": [],
   "source": [],
   "metadata": {
    "collapsed": false,
    "ExecuteTime": {
     "end_time": "2023-11-16T16:46:19.077581Z",
     "start_time": "2023-11-16T16:46:17.790167Z"
    }
   },
   "id": "d3e1716aada8004b"
  },
  {
   "cell_type": "markdown",
   "source": [
    "Use the following contingency table to help answer the question of whether using a Macbook and being a Codeup student are independent of each other."
   ],
   "metadata": {
    "collapsed": false
   },
   "id": "9ed0307a9dab1a3a"
  },
  {
   "cell_type": "code",
   "execution_count": 118,
   "outputs": [
    {
     "data": {
      "text/plain": "                    Uses a Macbook  Doesn't Use A Macbook\nCodeup Student                  49                      1\nNot Codeup Student              20                     30",
      "text/html": "<div>\n<style scoped>\n    .dataframe tbody tr th:only-of-type {\n        vertical-align: middle;\n    }\n\n    .dataframe tbody tr th {\n        vertical-align: top;\n    }\n\n    .dataframe thead th {\n        text-align: right;\n    }\n</style>\n<table border=\"1\" class=\"dataframe\">\n  <thead>\n    <tr style=\"text-align: right;\">\n      <th></th>\n      <th>Uses a Macbook</th>\n      <th>Doesn't Use A Macbook</th>\n    </tr>\n  </thead>\n  <tbody>\n    <tr>\n      <th>Codeup Student</th>\n      <td>49</td>\n      <td>1</td>\n    </tr>\n    <tr>\n      <th>Not Codeup Student</th>\n      <td>20</td>\n      <td>30</td>\n    </tr>\n  </tbody>\n</table>\n</div>"
     },
     "execution_count": 118,
     "metadata": {},
     "output_type": "execute_result"
    }
   ],
   "source": [
    "data = {\n",
    "    'Uses a Macbook': [49, 20],\n",
    "    'Doesn\\'t Use A Macbook': [1, 30]\n",
    "}\n",
    "\n",
    "# Index\n",
    "index = ['Codeup Student', 'Not Codeup Student']\n",
    "df = pd.DataFrame(data, index=index)\n",
    "df\n"
   ],
   "metadata": {
    "collapsed": false,
    "ExecuteTime": {
     "end_time": "2023-11-16T16:46:19.080613Z",
     "start_time": "2023-11-16T16:46:17.977907Z"
    }
   },
   "id": "1ca099f879bfcf6e"
  },
  {
   "cell_type": "markdown",
   "source": [
    "Ho = there is no connection between macbook and being a codeup student\n",
    "Ha = there is a connection between macbook and being a codeup student"
   ],
   "metadata": {
    "collapsed": false
   },
   "id": "381b62ca59543ae6"
  },
  {
   "cell_type": "code",
   "execution_count": 119,
   "outputs": [
    {
     "data": {
      "text/plain": "Chi2ContingencyResult(statistic=36.65264142122487, pvalue=1.4116760526193828e-09, dof=1, expected_freq=array([[34.5, 15.5],\n       [34.5, 15.5]]))"
     },
     "execution_count": 119,
     "metadata": {},
     "output_type": "execute_result"
    }
   ],
   "source": [
    "alpha = .05\n",
    "stats.chi2_contingency(df)\n"
   ],
   "metadata": {
    "collapsed": false,
    "ExecuteTime": {
     "end_time": "2023-11-16T16:46:19.208507Z",
     "start_time": "2023-11-16T16:46:17.979682Z"
    }
   },
   "id": "5ea9b0e552ad4d08"
  },
  {
   "cell_type": "code",
   "execution_count": 120,
   "outputs": [],
   "source": [
    "chi2, p, dof, expected = stats.chi2_contingency(df)"
   ],
   "metadata": {
    "collapsed": false,
    "ExecuteTime": {
     "end_time": "2023-11-16T16:46:19.208743Z",
     "start_time": "2023-11-16T16:46:18.027786Z"
    }
   },
   "id": "36848ce798893673"
  },
  {
   "cell_type": "code",
   "execution_count": 121,
   "outputs": [
    {
     "name": "stdout",
     "output_type": "stream",
     "text": [
      "Observed\n",
      "[[49  1]\n",
      " [20 30]]\n",
      "\n",
      "Expected\n",
      "[[34 15]\n",
      " [34 15]]\n",
      "\n",
      "----\n",
      "chi^2 = 36.6526\n",
      "p     = 0.0000\n"
     ]
    }
   ],
   "source": [
    "#output values\n",
    "print('Observed')\n",
    "print(df.values)\n",
    "print('\\nExpected')\n",
    "print(expected.astype(int))\n",
    "print('\\n----')\n",
    "print(f'chi^2 = {chi2:.4f}')\n",
    "print(f'p     = {p:.4f}')"
   ],
   "metadata": {
    "collapsed": false,
    "ExecuteTime": {
     "end_time": "2023-11-16T16:46:19.271236Z",
     "start_time": "2023-11-16T16:46:18.032739Z"
    }
   },
   "id": "1a555e6e327465bf"
  },
  {
   "cell_type": "code",
   "execution_count": 122,
   "outputs": [
    {
     "name": "stdout",
     "output_type": "stream",
     "text": [
      "reject the null hypothesis\n"
     ]
    }
   ],
   "source": [
    "if p < alpha:\n",
    "    print('reject the null hypothesis')\n",
    "else:\n",
    "    print('fail to reject the null hypothesis')"
   ],
   "metadata": {
    "collapsed": false,
    "ExecuteTime": {
     "end_time": "2023-11-16T16:46:19.293429Z",
     "start_time": "2023-11-16T16:46:18.054043Z"
    }
   },
   "id": "203eec9417d4bfd4"
  },
  {
   "cell_type": "markdown",
   "source": [
    "Choose another 2 categorical variables from the mpg dataset.\n",
    "\n",
    "    State your null and alternative hypotheses.\n",
    "    \n",
    "    State your alpha.\n",
    "    \n",
    "    Perform a chi2 test of independence.\n",
    "    \n",
    "    State your conclusion"
   ],
   "metadata": {
    "collapsed": false
   },
   "id": "3cd7e98f9532fbd2"
  },
  {
   "cell_type": "code",
   "execution_count": 123,
   "outputs": [
    {
     "ename": "TypeError",
     "evalue": "'dict' object is not callable",
     "output_type": "error",
     "traceback": [
      "\u001B[0;31m---------------------------------------------------------------------------\u001B[0m",
      "\u001B[0;31mTypeError\u001B[0m                                 Traceback (most recent call last)",
      "Cell \u001B[0;32mIn[123], line 1\u001B[0m\n\u001B[0;32m----> 1\u001B[0m df \u001B[38;5;241m=\u001B[39m (\u001B[43mdata\u001B[49m\u001B[43m(\u001B[49m\u001B[38;5;124;43m'\u001B[39;49m\u001B[38;5;124;43mmpg\u001B[39;49m\u001B[38;5;124;43m'\u001B[39;49m\u001B[43m)\u001B[49m)\n\u001B[1;32m      2\u001B[0m df\u001B[38;5;241m.\u001B[39mhead()\n",
      "\u001B[0;31mTypeError\u001B[0m: 'dict' object is not callable"
     ]
    }
   ],
   "source": [
    "df = (data('mpg'))\n",
    "df.head()"
   ],
   "metadata": {
    "collapsed": false,
    "ExecuteTime": {
     "end_time": "2023-11-16T16:46:19.639793Z",
     "start_time": "2023-11-16T16:46:18.078156Z"
    }
   },
   "id": "82264387a6d78a6"
  },
  {
   "cell_type": "code",
   "execution_count": null,
   "outputs": [],
   "source": [
    "df['drv'].value_counts()"
   ],
   "metadata": {
    "collapsed": false,
    "ExecuteTime": {
     "start_time": "2023-11-16T16:46:18.414978Z"
    }
   },
   "id": "70600a5843aed2c0"
  },
  {
   "cell_type": "markdown",
   "source": [
    "Ho - the drv type affects the class type\n",
    "Ha - the drv type does not affect the class type"
   ],
   "metadata": {
    "collapsed": false
   },
   "id": "19cb92b48808ff7b"
  },
  {
   "cell_type": "code",
   "execution_count": null,
   "outputs": [],
   "source": [
    "observed = pd.crosstab(df['drv'], df['class'])\n",
    "observed"
   ],
   "metadata": {
    "collapsed": false,
    "ExecuteTime": {
     "start_time": "2023-11-16T16:46:18.416936Z"
    }
   },
   "id": "c3ded9ececdd1c5e"
  },
  {
   "cell_type": "code",
   "execution_count": null,
   "outputs": [],
   "source": [
    "stats.chi2_contingency(observed)"
   ],
   "metadata": {
    "collapsed": false,
    "ExecuteTime": {
     "start_time": "2023-11-16T16:46:18.418799Z"
    }
   },
   "id": "5ef3374275a79ff9"
  },
  {
   "cell_type": "code",
   "execution_count": null,
   "outputs": [],
   "source": [
    "chi2, p, dof, expected = stats.chi2_contingency(observed)"
   ],
   "metadata": {
    "collapsed": false,
    "ExecuteTime": {
     "start_time": "2023-11-16T16:46:18.421695Z"
    }
   },
   "id": "8a3b4e9ea32582df"
  },
  {
   "cell_type": "code",
   "execution_count": null,
   "outputs": [],
   "source": [
    "#output values\n",
    "print('Observed')\n",
    "print(observed.values)\n",
    "print('\\nExpected')\n",
    "print(expected.astype(int))\n",
    "print('\\n----')\n",
    "print(f'chi^2 = {chi2:.4f}')\n",
    "print(f'p     = {p:.4f}')"
   ],
   "metadata": {
    "collapsed": false,
    "ExecuteTime": {
     "start_time": "2023-11-16T16:46:18.423469Z"
    }
   },
   "id": "c3b7046eee5a82a2"
  },
  {
   "cell_type": "code",
   "execution_count": null,
   "outputs": [],
   "source": [
    "if p < alpha:\n",
    "    print('reject the null hypthersis')\n",
    "else:\n",
    "    print('fail to reject the null hypothesis')"
   ],
   "metadata": {
    "collapsed": false,
    "ExecuteTime": {
     "start_time": "2023-11-16T16:46:18.439860Z"
    }
   },
   "id": "cbdfff097a25c02a"
  },
  {
   "cell_type": "markdown",
   "source": [
    "Use the data from the employees database to answer these questions:\n",
    "\n",
    "    Is an employee's gender independent of whether an employee works in sales or marketing? (only look at current employees\n",
    "    )\n",
    "    Is an employee's gender independent of whether or not they are or have been a manager?"
   ],
   "metadata": {
    "collapsed": false
   },
   "id": "f81bb9df50c14de"
  },
  {
   "cell_type": "code",
   "execution_count": null,
   "outputs": [],
   "source": [
    "import env\n",
    "import pymysql \n",
    "import sqlalchemy\n",
    "url = env.get_db_url(env.user,env.password,env.host)"
   ],
   "metadata": {
    "collapsed": false,
    "ExecuteTime": {
     "start_time": "2023-11-16T16:46:18.440826Z"
    }
   },
   "id": "a70773c413e11259"
  },
  {
   "cell_type": "code",
   "execution_count": null,
   "outputs": [],
   "source": [
    "df = pd.read_sql('select * from employees', url)"
   ],
   "metadata": {
    "collapsed": false,
    "ExecuteTime": {
     "start_time": "2023-11-16T16:46:18.441554Z"
    }
   },
   "id": "338a1499070e2537"
  },
  {
   "cell_type": "code",
   "execution_count": null,
   "outputs": [],
   "source": [
    "df.head()"
   ],
   "metadata": {
    "collapsed": false,
    "ExecuteTime": {
     "start_time": "2023-11-16T16:46:18.442096Z"
    }
   },
   "id": "a5f33523122b154e"
  },
  {
   "cell_type": "code",
   "execution_count": null,
   "outputs": [],
   "source": [
    "tables = pd.read_sql('show tables', url)\n",
    "tables"
   ],
   "metadata": {
    "collapsed": false,
    "ExecuteTime": {
     "start_time": "2023-11-16T16:46:18.445499Z"
    }
   },
   "id": "bd28bf599334f48d"
  },
  {
   "cell_type": "code",
   "execution_count": null,
   "outputs": [],
   "source": [
    "current_emp = pd.read_sql('select * from employees join dept_emp using(emp_no) join departments using(dept_no) where to_date > now()', url)\n",
    "current_emp.head()"
   ],
   "metadata": {
    "collapsed": false,
    "ExecuteTime": {
     "start_time": "2023-11-16T16:46:18.449911Z"
    }
   },
   "id": "f6c7cc6c41297256"
  },
  {
   "cell_type": "markdown",
   "source": [
    "Is an employee's gender independent of whether an employee works in sales or marketing? (only look at current employees"
   ],
   "metadata": {
    "collapsed": false
   },
   "id": "4561c6ced8fe6d7a"
  },
  {
   "cell_type": "markdown",
   "source": [
    "Ho - employees gender does not affect if they work in sales or marketing\n",
    "Ha - employees gender does affect if they work in sales or marketing"
   ],
   "metadata": {
    "collapsed": false
   },
   "id": "2dacc82a28c42dce"
  },
  {
   "cell_type": "code",
   "execution_count": null,
   "outputs": [],
   "source": [
    "observed = pd.crosstab(current_emp.gender, current_emp.dept_name)\n",
    "observed"
   ],
   "metadata": {
    "collapsed": false,
    "ExecuteTime": {
     "start_time": "2023-11-16T16:46:18.454489Z"
    }
   },
   "id": "b7c0e5eb37889d5e"
  },
  {
   "cell_type": "code",
   "execution_count": null,
   "outputs": [],
   "source": [
    "stats.chi2_contingency(observed)"
   ],
   "metadata": {
    "collapsed": false,
    "ExecuteTime": {
     "start_time": "2023-11-16T16:46:18.457424Z"
    }
   },
   "id": "69236495155e7c05"
  },
  {
   "cell_type": "code",
   "execution_count": null,
   "outputs": [],
   "source": [
    "chi2, p, dof, expected = stats.chi2_contingency(observed)"
   ],
   "metadata": {
    "collapsed": false,
    "ExecuteTime": {
     "start_time": "2023-11-16T16:46:18.459815Z"
    }
   },
   "id": "31efa8725d1d742c"
  },
  {
   "cell_type": "code",
   "execution_count": null,
   "outputs": [],
   "source": [
    "print('Observed')\n",
    "print(observed.values)\n",
    "print('\\nExpected')\n",
    "print(expected.astype(int))\n",
    "print('\\n----')\n",
    "print(f'chi^2 = {chi2:.4f}')\n",
    "print(f'p     = {p:.4f}')"
   ],
   "metadata": {
    "collapsed": false,
    "ExecuteTime": {
     "start_time": "2023-11-16T16:46:18.461422Z"
    }
   },
   "id": "7e50711b142f095c"
  },
  {
   "cell_type": "code",
   "execution_count": null,
   "outputs": [],
   "source": [
    "if p < alpha:\n",
    "    print('reject the null hypothesis')\n",
    "else:\n",
    "    print('fail to reject the null hypothesis')"
   ],
   "metadata": {
    "collapsed": false,
    "ExecuteTime": {
     "start_time": "2023-11-16T16:46:18.463232Z"
    }
   },
   "id": "a380830be3235b24"
  },
  {
   "cell_type": "markdown",
   "source": [
    "Is an employee's gender independent of whether or not they are or have been a manager?"
   ],
   "metadata": {
    "collapsed": false
   },
   "id": "3aba4fc548368d4"
  },
  {
   "cell_type": "code",
   "execution_count": null,
   "outputs": [],
   "source": [
    "managers = pd.read_sql('select * from employees left join dept_manager using(emp_no)', url)\n",
    "managers"
   ],
   "metadata": {
    "collapsed": false,
    "ExecuteTime": {
     "start_time": "2023-11-16T16:46:18.464906Z"
    }
   },
   "id": "81d01847108ac58"
  },
  {
   "cell_type": "markdown",
   "source": [
    "Ho - the gender does not affect wether or not they are managers\n",
    "Ha = the gender does affect wether or not they are managers"
   ],
   "metadata": {
    "collapsed": false
   },
   "id": "52bf12caa53d1fb0"
  },
  {
   "cell_type": "code",
   "execution_count": null,
   "outputs": [],
   "source": [
    "managers['is_manager'] = managers.to_date.notnull()"
   ],
   "metadata": {
    "collapsed": false,
    "ExecuteTime": {
     "start_time": "2023-11-16T16:46:18.466885Z"
    }
   },
   "id": "c2a076dfb10ab18e"
  },
  {
   "cell_type": "code",
   "execution_count": null,
   "outputs": [],
   "source": [
    "managers"
   ],
   "metadata": {
    "collapsed": false,
    "ExecuteTime": {
     "start_time": "2023-11-16T16:46:18.468858Z"
    }
   },
   "id": "f3321cfa543bc545"
  },
  {
   "cell_type": "code",
   "execution_count": null,
   "outputs": [],
   "source": [
    "pd.crosstab(managers.is_manager, managers.gender)"
   ],
   "metadata": {
    "collapsed": false,
    "ExecuteTime": {
     "start_time": "2023-11-16T16:46:18.471290Z"
    }
   },
   "id": "e80f5b697d30053a"
  },
  {
   "cell_type": "code",
   "execution_count": null,
   "outputs": [],
   "source": [
    "chi2, p, dof, expected = stats.chi2_contingency(observed)"
   ],
   "metadata": {
    "collapsed": false,
    "ExecuteTime": {
     "start_time": "2023-11-16T16:46:18.472856Z"
    }
   },
   "id": "914bfaa2cfb9260c"
  },
  {
   "cell_type": "code",
   "execution_count": null,
   "outputs": [],
   "source": [
    "print('Observed')\n",
    "print(observed.values)\n",
    "print('\\nExpected')\n",
    "print(expected.astype(int))\n",
    "print('\\n----')\n",
    "print(f'chi^2 = {chi2:.4f}')\n",
    "print(f'p     = {p:.4f}')"
   ],
   "metadata": {
    "collapsed": false,
    "ExecuteTime": {
     "start_time": "2023-11-16T16:46:18.474659Z"
    }
   },
   "id": "bfdbaf4cbce64f01"
  },
  {
   "cell_type": "code",
   "execution_count": null,
   "outputs": [],
   "source": [
    "if p < alpha:\n",
    "    print('reject the null hypothesis')\n",
    "else:\n",
    "    print('fail to reject the null hypothesis')"
   ],
   "metadata": {
    "collapsed": false,
    "ExecuteTime": {
     "start_time": "2023-11-16T16:46:18.476961Z"
    }
   },
   "id": "11b32dae7c6d9c55"
  },
  {
   "cell_type": "markdown",
   "source": [
    "Answer with the type of stats test you would use (assume normal distribution):\n",
    "Is there a relationship between the length of your arm and the length of your foot?"
   ],
   "metadata": {
    "collapsed": false
   },
   "id": "b3828983eafe6d9a"
  },
  {
   "cell_type": "markdown",
   "source": [
    "    correlation, pearsonr"
   ],
   "metadata": {
    "collapsed": false
   },
   "id": "f83472c1e6ae125"
  },
  {
   "cell_type": "markdown",
   "source": [
    "Does smoking affect when or not someone has lung cancer?"
   ],
   "metadata": {
    "collapsed": false
   },
   "id": "eadb8ce2aaf34815"
  },
  {
   "cell_type": "markdown",
   "source": [
    "    Chi-Square Test"
   ],
   "metadata": {
    "collapsed": false
   },
   "id": "89794c66935addc5"
  },
  {
   "cell_type": "markdown",
   "source": [
    "Is gender independent of a person’s blood type?"
   ],
   "metadata": {
    "collapsed": false
   },
   "id": "4e0927165322f34a"
  },
  {
   "cell_type": "markdown",
   "source": [
    "    Chi-Square Test"
   ],
   "metadata": {
    "collapsed": false
   },
   "id": "92a8383161dc233c"
  },
  {
   "cell_type": "markdown",
   "source": [
    "Does whether or not a person has a cat or dog affect whether they live in an apartment?"
   ],
   "metadata": {
    "collapsed": false
   },
   "id": "b0db629c5538ec9b"
  },
  {
   "cell_type": "markdown",
   "source": [
    "    Chi-Square Test "
   ],
   "metadata": {
    "collapsed": false
   },
   "id": "686bcbef26274fd"
  },
  {
   "cell_type": "markdown",
   "source": [
    "Does the length of time of the lecture correlate with a student's grade?"
   ],
   "metadata": {
    "collapsed": false
   },
   "id": "a8ed320ac895f6d8"
  },
  {
   "cell_type": "markdown",
   "source": [
    "    Correlation"
   ],
   "metadata": {
    "collapsed": false
   },
   "id": "1e0f602fdd36aa99"
  },
  {
   "cell_type": "markdown",
   "source": [
    "Use the telco_churn data.\n",
    "\n",
    "    Does tenure correlate with monthly charges?\n",
    "    \n",
    "    Total charges?\n",
    "    \n",
    "    What happens if you control for phone and internet service?"
   ],
   "metadata": {
    "collapsed": false
   },
   "id": "9364ebf66015aa4c"
  },
  {
   "cell_type": "code",
   "execution_count": null,
   "outputs": [],
   "source": [
    "import env"
   ],
   "metadata": {
    "collapsed": false,
    "ExecuteTime": {
     "start_time": "2023-11-16T16:46:18.479228Z"
    }
   },
   "id": "94584cf063b81932"
  },
  {
   "cell_type": "code",
   "execution_count": null,
   "outputs": [],
   "source": [
    "url = env.get_db_url()"
   ],
   "metadata": {
    "collapsed": false,
    "ExecuteTime": {
     "start_time": "2023-11-16T16:46:18.481490Z"
    }
   },
   "id": "4901165af9d2215f"
  },
  {
   "cell_type": "code",
   "execution_count": null,
   "outputs": [],
   "source": [
    "tables = pd.read_sql('show tables', url)\n",
    "tables"
   ],
   "metadata": {
    "collapsed": false,
    "ExecuteTime": {
     "start_time": "2023-11-16T16:46:18.483889Z"
    }
   },
   "id": "fe1aaa08c936158c"
  },
  {
   "cell_type": "code",
   "execution_count": null,
   "outputs": [],
   "source": [
    "df = pd.read_sql('select * from customers', url)\n",
    "df.head()"
   ],
   "metadata": {
    "collapsed": false,
    "ExecuteTime": {
     "start_time": "2023-11-16T16:46:18.486130Z"
    }
   },
   "id": "ce7c8eb2d4899173"
  },
  {
   "cell_type": "markdown",
   "source": [
    "Ho- there is no correlation between tenure and monthly_charges\n",
    "Ha- there is a correlation between tenure and monthly_charges"
   ],
   "metadata": {
    "collapsed": false
   },
   "id": "f4e195964050799"
  },
  {
   "cell_type": "code",
   "execution_count": null,
   "outputs": [],
   "source": [
    "stats.pearsonr(df.tenure, df.monthly_charges)"
   ],
   "metadata": {
    "collapsed": false,
    "ExecuteTime": {
     "start_time": "2023-11-16T16:46:18.488649Z"
    }
   },
   "id": "89ad13f0f738c6c7"
  },
  {
   "cell_type": "code",
   "execution_count": null,
   "outputs": [],
   "source": [
    "r, p = stats.pearsonr(df.tenure, df.monthly_charges)"
   ],
   "metadata": {
    "collapsed": false,
    "ExecuteTime": {
     "start_time": "2023-11-16T16:46:18.492850Z"
    }
   },
   "id": "144b0a6de7a95346"
  },
  {
   "cell_type": "code",
   "execution_count": null,
   "outputs": [],
   "source": [
    "plt.scatter(df.tenure, df.monthly_charges, alpha=.4)\n",
    "plt.title('does monthly charges affect tenure')\n",
    "plt.xlabel('tenure')\n",
    "plt.ylabel('monthly charges')\n",
    "plt.show()"
   ],
   "metadata": {
    "collapsed": false,
    "ExecuteTime": {
     "start_time": "2023-11-16T16:46:18.496580Z"
    }
   },
   "id": "1cf8f8c243e3e6a8"
  },
  {
   "cell_type": "code",
   "execution_count": null,
   "outputs": [],
   "source": [
    "if p < alpha:\n",
    "    print('reject the null hypothesis')\n",
    "else:\n",
    "    print('fail to reject the null hypothesis')"
   ],
   "metadata": {
    "collapsed": false,
    "ExecuteTime": {
     "start_time": "2023-11-16T16:46:18.500291Z"
    }
   },
   "id": "e42fd2b930021a44"
  },
  {
   "cell_type": "code",
   "execution_count": null,
   "outputs": [],
   "source": [
    "df.head()"
   ],
   "metadata": {
    "collapsed": false,
    "ExecuteTime": {
     "start_time": "2023-11-16T16:46:18.503736Z"
    }
   },
   "id": "97004c0d7d76d2ee"
  },
  {
   "cell_type": "code",
   "execution_count": null,
   "outputs": [],
   "source": [
    "df.total_charges.dropna().value_counts()"
   ],
   "metadata": {
    "collapsed": false,
    "ExecuteTime": {
     "start_time": "2023-11-16T16:46:18.505362Z"
    }
   },
   "id": "4dbe6537f875fbfa"
  },
  {
   "cell_type": "code",
   "execution_count": null,
   "outputs": [],
   "source": [
    "test.total_charges.dropna().value_counts()"
   ],
   "metadata": {
    "collapsed": false,
    "ExecuteTime": {
     "start_time": "2023-11-16T16:46:18.507188Z"
    }
   },
   "id": "19dc6f4e1940b22e"
  },
  {
   "cell_type": "code",
   "execution_count": null,
   "outputs": [],
   "source": [
    "df = pd.read_sql('select * from customers where total_charges != \"\"', url)\n",
    "df.total_charges = pd.to_numeric(df.total_charges,errors='coerce')"
   ],
   "metadata": {
    "collapsed": false,
    "ExecuteTime": {
     "start_time": "2023-11-16T16:46:18.509462Z"
    }
   },
   "id": "21b59b978d3d56b3"
  },
  {
   "cell_type": "code",
   "execution_count": null,
   "outputs": [],
   "source": [
    "stats.pearsonr(df.tenure, df.total_charges)"
   ],
   "metadata": {
    "collapsed": false,
    "ExecuteTime": {
     "start_time": "2023-11-16T16:46:18.510957Z"
    }
   },
   "id": "e4349c3c11267f52"
  },
  {
   "cell_type": "code",
   "execution_count": null,
   "outputs": [],
   "source": [
    "if p < alpha:\n",
    "    print('reject the null hypothesis')\n",
    "else:\n",
    "    print('fail to reject the null hypothesis')"
   ],
   "metadata": {
    "collapsed": false,
    "ExecuteTime": {
     "start_time": "2023-11-16T16:46:18.513521Z"
    }
   },
   "id": "e32c0e0df2566d3a"
  },
  {
   "cell_type": "code",
   "execution_count": null,
   "outputs": [],
   "source": [
    "plt.scatter(df.tenure, df.total_charges, alpha=.4)\n",
    "plt.title('does total charges affect tenure')\n",
    "plt.xlabel('tenure')\n",
    "plt.ylabel('total charges')\n",
    "plt.show()"
   ],
   "metadata": {
    "collapsed": false,
    "ExecuteTime": {
     "start_time": "2023-11-16T16:46:18.515025Z"
    }
   },
   "id": "7e49b281ccc55fb7"
  },
  {
   "cell_type": "code",
   "execution_count": null,
   "outputs": [],
   "source": [
    "df['internet_service_type_id'].value_counts()"
   ],
   "metadata": {
    "collapsed": false,
    "ExecuteTime": {
     "start_time": "2023-11-16T16:46:18.516783Z"
    }
   },
   "id": "327b1a76a2adae8d"
  },
  {
   "cell_type": "code",
   "execution_count": null,
   "outputs": [],
   "source": [
    "sns.scatterplot(data=df, x='tenure', y='total_charges', hue='phone_service', alpha=.4)\n",
    "plt.title('does total charges affect tenure')\n",
    "plt.xlabel('tenure')\n",
    "plt.ylabel('total charges')\n",
    "plt.show()"
   ],
   "metadata": {
    "collapsed": false,
    "ExecuteTime": {
     "start_time": "2023-11-16T16:46:18.519247Z"
    }
   },
   "id": "c642b0dd1d66bac2"
  },
  {
   "cell_type": "markdown",
   "source": [
    "Use the employees database.\n",
    "    \n",
    "    Is there a relationship between how long an employee has been with the company and their salary?\n",
    "    \n",
    "    Is there a relationship between how long an employee has been with the company and the number of titles they have had?"
   ],
   "metadata": {
    "collapsed": false
   },
   "id": "eb2ca10fba7b5a01"
  },
  {
   "cell_type": "code",
   "execution_count": null,
   "outputs": [],
   "source": [],
   "metadata": {
    "collapsed": false,
    "ExecuteTime": {
     "start_time": "2023-11-16T16:46:18.521080Z"
    }
   },
   "id": "d8be5a14f129295"
  },
  {
   "cell_type": "code",
   "execution_count": null,
   "outputs": [],
   "source": [
    "url =env.get_db_url()"
   ],
   "metadata": {
    "collapsed": false,
    "ExecuteTime": {
     "start_time": "2023-11-16T16:46:18.523665Z"
    }
   },
   "id": "9c5a02e9fa0c00ad"
  },
  {
   "cell_type": "code",
   "execution_count": 165,
   "outputs": [],
   "source": [
    "df = pd.read_sql('select * from employees join salaries using(emp_no)', url)"
   ],
   "metadata": {
    "collapsed": false,
    "ExecuteTime": {
     "end_time": "2023-11-16T17:40:47.277308Z",
     "start_time": "2023-11-16T17:38:59.641600Z"
    }
   },
   "id": "e4acc0c53e7fc885"
  },
  {
   "cell_type": "code",
   "execution_count": 166,
   "outputs": [
    {
     "data": {
      "text/plain": "emp_no         int64\nbirth_date    object\nfirst_name    object\nlast_name     object\ngender        object\nhire_date     object\nsalary         int64\nfrom_date     object\nto_date       object\ndtype: object"
     },
     "execution_count": 166,
     "metadata": {},
     "output_type": "execute_result"
    }
   ],
   "source": [
    "df.dtypes"
   ],
   "metadata": {
    "collapsed": false,
    "ExecuteTime": {
     "end_time": "2023-11-16T17:40:52.547804Z",
     "start_time": "2023-11-16T17:40:51.513717Z"
    }
   },
   "id": "2b131f5997d87ad4"
  },
  {
   "cell_type": "code",
   "execution_count": 167,
   "outputs": [
    {
     "data": {
      "text/plain": "   emp_no  birth_date first_name last_name gender   hire_date  salary  \\\n0   10001  1953-09-02     Georgi   Facello      M  1986-06-26   60117   \n1   10001  1953-09-02     Georgi   Facello      M  1986-06-26   62102   \n2   10001  1953-09-02     Georgi   Facello      M  1986-06-26   66074   \n3   10001  1953-09-02     Georgi   Facello      M  1986-06-26   66596   \n4   10001  1953-09-02     Georgi   Facello      M  1986-06-26   66961   \n\n    from_date     to_date  \n0  1986-06-26  1987-06-26  \n1  1987-06-26  1988-06-25  \n2  1988-06-25  1989-06-25  \n3  1989-06-25  1990-06-25  \n4  1990-06-25  1991-06-25  ",
      "text/html": "<div>\n<style scoped>\n    .dataframe tbody tr th:only-of-type {\n        vertical-align: middle;\n    }\n\n    .dataframe tbody tr th {\n        vertical-align: top;\n    }\n\n    .dataframe thead th {\n        text-align: right;\n    }\n</style>\n<table border=\"1\" class=\"dataframe\">\n  <thead>\n    <tr style=\"text-align: right;\">\n      <th></th>\n      <th>emp_no</th>\n      <th>birth_date</th>\n      <th>first_name</th>\n      <th>last_name</th>\n      <th>gender</th>\n      <th>hire_date</th>\n      <th>salary</th>\n      <th>from_date</th>\n      <th>to_date</th>\n    </tr>\n  </thead>\n  <tbody>\n    <tr>\n      <th>0</th>\n      <td>10001</td>\n      <td>1953-09-02</td>\n      <td>Georgi</td>\n      <td>Facello</td>\n      <td>M</td>\n      <td>1986-06-26</td>\n      <td>60117</td>\n      <td>1986-06-26</td>\n      <td>1987-06-26</td>\n    </tr>\n    <tr>\n      <th>1</th>\n      <td>10001</td>\n      <td>1953-09-02</td>\n      <td>Georgi</td>\n      <td>Facello</td>\n      <td>M</td>\n      <td>1986-06-26</td>\n      <td>62102</td>\n      <td>1987-06-26</td>\n      <td>1988-06-25</td>\n    </tr>\n    <tr>\n      <th>2</th>\n      <td>10001</td>\n      <td>1953-09-02</td>\n      <td>Georgi</td>\n      <td>Facello</td>\n      <td>M</td>\n      <td>1986-06-26</td>\n      <td>66074</td>\n      <td>1988-06-25</td>\n      <td>1989-06-25</td>\n    </tr>\n    <tr>\n      <th>3</th>\n      <td>10001</td>\n      <td>1953-09-02</td>\n      <td>Georgi</td>\n      <td>Facello</td>\n      <td>M</td>\n      <td>1986-06-26</td>\n      <td>66596</td>\n      <td>1989-06-25</td>\n      <td>1990-06-25</td>\n    </tr>\n    <tr>\n      <th>4</th>\n      <td>10001</td>\n      <td>1953-09-02</td>\n      <td>Georgi</td>\n      <td>Facello</td>\n      <td>M</td>\n      <td>1986-06-26</td>\n      <td>66961</td>\n      <td>1990-06-25</td>\n      <td>1991-06-25</td>\n    </tr>\n  </tbody>\n</table>\n</div>"
     },
     "execution_count": 167,
     "metadata": {},
     "output_type": "execute_result"
    }
   ],
   "source": [
    "df.head()"
   ],
   "metadata": {
    "collapsed": false,
    "ExecuteTime": {
     "end_time": "2023-11-16T17:42:08.275864Z",
     "start_time": "2023-11-16T17:42:08.101997Z"
    }
   },
   "id": "a347b3a13f4b2038"
  },
  {
   "cell_type": "code",
   "execution_count": 168,
   "outputs": [
    {
     "data": {
      "text/plain": "to_date\n9999-01-01    240124\n1998-10-25      1034\n1997-10-26       872\n2002-04-03       821\n2000-08-26       815\n               ...  \n1985-08-29         1\n1985-06-15         1\n1986-01-14         1\n1985-12-08         1\n1985-11-17         1\nName: count, Length: 6120, dtype: int64"
     },
     "execution_count": 168,
     "metadata": {},
     "output_type": "execute_result"
    }
   ],
   "source": [
    "df.to_date.value_counts()"
   ],
   "metadata": {
    "collapsed": false,
    "ExecuteTime": {
     "end_time": "2023-11-16T17:46:02.382602Z",
     "start_time": "2023-11-16T17:45:52.375635Z"
    }
   },
   "id": "c73c4345821a75d6"
  },
  {
   "cell_type": "code",
   "execution_count": 172,
   "outputs": [],
   "source": [
    "df['tenure_days'] = df.to_date = df.hire_date"
   ],
   "metadata": {
    "collapsed": false,
    "ExecuteTime": {
     "end_time": "2023-11-16T17:52:30.617772Z",
     "start_time": "2023-11-16T17:52:29.923797Z"
    }
   },
   "id": "d75ba845eff1d76"
  },
  {
   "cell_type": "code",
   "execution_count": 173,
   "outputs": [],
   "source": [
    "df.tenure_days = df.tenure_days.astype('str').str.split(expand=True)[0]"
   ],
   "metadata": {
    "collapsed": false,
    "ExecuteTime": {
     "end_time": "2023-11-16T17:53:48.167911Z",
     "start_time": "2023-11-16T17:53:31.235194Z"
    }
   },
   "id": "dd8c73fed107de1a"
  },
  {
   "cell_type": "code",
   "execution_count": 174,
   "outputs": [
    {
     "data": {
      "text/plain": "   emp_no  birth_date first_name last_name gender  hire_date  salary  \\\n0   10001  1953-09-02     Georgi   Facello      M 1986-06-26   60117   \n1   10001  1953-09-02     Georgi   Facello      M 1986-06-26   62102   \n2   10001  1953-09-02     Georgi   Facello      M 1986-06-26   66074   \n3   10001  1953-09-02     Georgi   Facello      M 1986-06-26   66596   \n4   10001  1953-09-02     Georgi   Facello      M 1986-06-26   66961   \n\n   from_date    to_date tenure_days  \n0 1986-06-26 1986-06-26  1986-06-26  \n1 1987-06-26 1986-06-26  1986-06-26  \n2 1988-06-25 1986-06-26  1986-06-26  \n3 1989-06-25 1986-06-26  1986-06-26  \n4 1990-06-25 1986-06-26  1986-06-26  ",
      "text/html": "<div>\n<style scoped>\n    .dataframe tbody tr th:only-of-type {\n        vertical-align: middle;\n    }\n\n    .dataframe tbody tr th {\n        vertical-align: top;\n    }\n\n    .dataframe thead th {\n        text-align: right;\n    }\n</style>\n<table border=\"1\" class=\"dataframe\">\n  <thead>\n    <tr style=\"text-align: right;\">\n      <th></th>\n      <th>emp_no</th>\n      <th>birth_date</th>\n      <th>first_name</th>\n      <th>last_name</th>\n      <th>gender</th>\n      <th>hire_date</th>\n      <th>salary</th>\n      <th>from_date</th>\n      <th>to_date</th>\n      <th>tenure_days</th>\n    </tr>\n  </thead>\n  <tbody>\n    <tr>\n      <th>0</th>\n      <td>10001</td>\n      <td>1953-09-02</td>\n      <td>Georgi</td>\n      <td>Facello</td>\n      <td>M</td>\n      <td>1986-06-26</td>\n      <td>60117</td>\n      <td>1986-06-26</td>\n      <td>1986-06-26</td>\n      <td>1986-06-26</td>\n    </tr>\n    <tr>\n      <th>1</th>\n      <td>10001</td>\n      <td>1953-09-02</td>\n      <td>Georgi</td>\n      <td>Facello</td>\n      <td>M</td>\n      <td>1986-06-26</td>\n      <td>62102</td>\n      <td>1987-06-26</td>\n      <td>1986-06-26</td>\n      <td>1986-06-26</td>\n    </tr>\n    <tr>\n      <th>2</th>\n      <td>10001</td>\n      <td>1953-09-02</td>\n      <td>Georgi</td>\n      <td>Facello</td>\n      <td>M</td>\n      <td>1986-06-26</td>\n      <td>66074</td>\n      <td>1988-06-25</td>\n      <td>1986-06-26</td>\n      <td>1986-06-26</td>\n    </tr>\n    <tr>\n      <th>3</th>\n      <td>10001</td>\n      <td>1953-09-02</td>\n      <td>Georgi</td>\n      <td>Facello</td>\n      <td>M</td>\n      <td>1986-06-26</td>\n      <td>66596</td>\n      <td>1989-06-25</td>\n      <td>1986-06-26</td>\n      <td>1986-06-26</td>\n    </tr>\n    <tr>\n      <th>4</th>\n      <td>10001</td>\n      <td>1953-09-02</td>\n      <td>Georgi</td>\n      <td>Facello</td>\n      <td>M</td>\n      <td>1986-06-26</td>\n      <td>66961</td>\n      <td>1990-06-25</td>\n      <td>1986-06-26</td>\n      <td>1986-06-26</td>\n    </tr>\n  </tbody>\n</table>\n</div>"
     },
     "execution_count": 174,
     "metadata": {},
     "output_type": "execute_result"
    }
   ],
   "source": [
    "df.head()"
   ],
   "metadata": {
    "collapsed": false,
    "ExecuteTime": {
     "end_time": "2023-11-16T17:53:48.446219Z",
     "start_time": "2023-11-16T17:53:47.184886Z"
    }
   },
   "id": "da0722a753159b2d"
  },
  {
   "cell_type": "code",
   "execution_count": 179,
   "outputs": [],
   "source": [
    "df.tenure_days = df.tenure_days.str.replace('-', '').astype(int)"
   ],
   "metadata": {
    "collapsed": false,
    "ExecuteTime": {
     "end_time": "2023-11-16T17:58:06.476368Z",
     "start_time": "2023-11-16T17:58:03.809723Z"
    }
   },
   "id": "25d6edff194df4ce"
  },
  {
   "cell_type": "code",
   "execution_count": 181,
   "outputs": [
    {
     "data": {
      "text/plain": "<function matplotlib.pyplot.show(close=None, block=None)>"
     },
     "execution_count": 181,
     "metadata": {},
     "output_type": "execute_result"
    },
    {
     "data": {
      "text/plain": "<Figure size 640x480 with 1 Axes>",
      "image/png": "[encoded data removed]"
     },
     "metadata": {},
     "output_type": "display_data"
    }
   ],
   "source": [
    "sns.scatterplot(data=df, x='tenure_days', y='salary')\n",
    "plt.show"
   ],
   "metadata": {
    "collapsed": false,
    "ExecuteTime": {
     "end_time": "2023-11-16T18:00:55.630317Z",
     "start_time": "2023-11-16T18:00:46.410023Z"
    }
   },
   "id": "aeb23dc0d8c77bf9"
  },
  {
   "cell_type": "markdown",
   "source": [
    "COMPARING MEANS"
   ],
   "metadata": {
    "collapsed": false
   },
   "id": "9f10d49c8414cf93"
  },
  {
   "cell_type": "markdown",
   "source": [
    "Answer with the type of test you would use (assume normal distribution):\n",
    "\n",
    "    Is there a difference in grades of students on the second floor compared to grades of all students?"
   ],
   "metadata": {
    "collapsed": false
   },
   "id": "b44b5ed44c60808f"
  },
  {
   "cell_type": "markdown",
   "source": [
    "  1 sample  2 Tail T test      "
   ],
   "metadata": {
    "collapsed": false
   },
   "id": "bfb067c3f320b10d"
  },
  {
   "cell_type": "markdown",
   "source": [
    "    Are adults who drink milk taller than adults who don't drink milk?"
   ],
   "metadata": {
    "collapsed": false
   },
   "id": "3557d11abd8d7867"
  },
  {
   "cell_type": "markdown",
   "source": [
    "2 sample 1 Tail T test"
   ],
   "metadata": {
    "collapsed": false
   },
   "id": "810994c457813c75"
  },
  {
   "cell_type": "markdown",
   "source": [
    "    Is the price of gas higher in Texas or in New Mexico?"
   ],
   "metadata": {
    "collapsed": false
   },
   "id": "76dc98b8cf41ec81"
  },
  {
   "cell_type": "markdown",
   "source": [
    "2 sample 1 tail T test"
   ],
   "metadata": {
    "collapsed": false
   },
   "id": "7a12eaf09c233a0a"
  },
  {
   "cell_type": "markdown",
   "source": [
    "    Are there differences in stress levels between students who take data science vs students who take web development vs students who take cloud academy?"
   ],
   "metadata": {
    "collapsed": false
   },
   "id": "122669a082a9c2b9"
  },
  {
   "cell_type": "markdown",
   "source": [
    "ANOVA"
   ],
   "metadata": {
    "collapsed": false
   },
   "id": "16072330fc7449d9"
  },
  {
   "cell_type": "markdown",
   "source": [
    "Ace Realty wants to determine whether the average time it takes to sell homes is different for its two offices. A sample of 40 sales from office #1 revealed a mean of 90 days and a standard deviation of 15 days. A sample of 50 sales from office #2 revealed a mean of 100 days and a standard deviation of 20 days. Use a .05 level of significance."
   ],
   "metadata": {
    "collapsed": false
   },
   "id": "9c1ebd48f98175ea"
  },
  {
   "cell_type": "code",
   "execution_count": 14,
   "outputs": [],
   "source": [
    "ace1 = m1, std1, t = 90, 15, 40\n",
    "ace2 = m2,std2, t2 = 100, 20, 50\n",
    "alpha = .05"
   ],
   "metadata": {
    "collapsed": false,
    "ExecuteTime": {
     "end_time": "2023-11-16T22:58:25.135460Z",
     "start_time": "2023-11-16T22:58:25.070360Z"
    }
   },
   "id": "a55088aab0f1abc0"
  },
  {
   "cell_type": "markdown",
   "source": [
    "H0: There is no difference in the average time it takes to sell homes between the two office\n",
    "H1: There is a difference in the average time it takes to sell homes between the two offices."
   ],
   "metadata": {
    "collapsed": false
   },
   "id": "e507c0408dffc947"
  },
  {
   "cell_type": "code",
   "execution_count": 12,
   "outputs": [],
   "source": [
    "test, p = stats.ttest_ind_from_stats(m1, std1, t, m2, std2, t2)"
   ],
   "metadata": {
    "collapsed": false,
    "ExecuteTime": {
     "end_time": "2023-11-16T22:57:47.259345Z",
     "start_time": "2023-11-16T22:57:47.083061Z"
    }
   },
   "id": "c153d03c5d981612"
  },
  {
   "cell_type": "code",
   "execution_count": 15,
   "outputs": [
    {
     "name": "stdout",
     "output_type": "stream",
     "text": [
      "reject the null hypothesis\n"
     ]
    }
   ],
   "source": [
    "if p < alpha:\n",
    "    print('reject the null hypothesis')\n",
    "else:\n",
    "    print('fail to reject the null hypothesis')"
   ],
   "metadata": {
    "collapsed": false,
    "ExecuteTime": {
     "end_time": "2023-11-16T22:58:28.453685Z",
     "start_time": "2023-11-16T22:58:28.420358Z"
    }
   },
   "id": "4eb0b97760df83bb"
  },
  {
   "cell_type": "code",
   "execution_count": null,
   "outputs": [],
   "source": [],
   "metadata": {
    "collapsed": false
   },
   "id": "55cb5987c199df67"
  }
 ],
 "metadata": {
  "kernelspec": {
   "display_name": "Python 3",
   "language": "python",
   "name": "python3"
  },
  "language_info": {
   "codemirror_mode": {
    "name": "ipython",
    "version": 2
   },
   "file_extension": ".py",
   "mimetype": "text/x-python",
   "name": "python",
   "nbconvert_exporter": "python",
   "pygments_lexer": "ipython2",
   "version": "2.7.6"
  }
 },
 "nbformat": 4,
 "nbformat_minor": 5
}
