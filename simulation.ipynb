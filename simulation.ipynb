{
 "cells": [
  {
   "cell_type": "code",
   "execution_count": 2,
   "outputs": [],
   "source": [
    "import numpy as np\n",
    "import pandas as pd"
   ],
   "metadata": {
    "collapsed": false,
    "ExecuteTime": {
     "end_time": "2023-11-14T15:54:16.628326Z",
     "start_time": "2023-11-14T15:54:16.348553Z"
    }
   },
   "id": "5fd475c1d2d3ce83"
  },
  {
   "cell_type": "markdown",
   "source": [
    "How likely is it that you roll doubles when rolling two dice?"
   ],
   "metadata": {
    "collapsed": false
   },
   "id": "b0f84e80e54a8ef0"
  },
  {
   "cell_type": "code",
   "execution_count": 17,
   "outputs": [],
   "source": [
    "n_trials = 100_000\n",
    "n_dice = 2\n",
    "dice = [1,2,3,4,5,6]\n",
    "double = np.random.choice(dice, (n_trials,n_dice))\n",
    "double =pd.DataFrame(double)\n",
    "is_double = double.apply(lambda row: row[0] == row[1], axis=1)"
   ],
   "metadata": {
    "collapsed": false,
    "ExecuteTime": {
     "end_time": "2023-11-14T16:34:01.437251Z",
     "start_time": "2023-11-14T16:34:00.909765Z"
    }
   },
   "id": "b0ed1ea756176c46"
  },
  {
   "cell_type": "code",
   "execution_count": 26,
   "outputs": [
    {
     "data": {
      "text/plain": "0.17"
     },
     "execution_count": 26,
     "metadata": {},
     "output_type": "execute_result"
    }
   ],
   "source": [
    "round(len(double[is_double]) / len(double), 2)"
   ],
   "metadata": {
    "collapsed": false,
    "ExecuteTime": {
     "end_time": "2023-11-14T16:45:45.006091Z",
     "start_time": "2023-11-14T16:45:44.903235Z"
    }
   },
   "id": "b680f3688083c6b3"
  },
  {
   "cell_type": "markdown",
   "source": [
    "If you flip 8 coins, what is the probability of getting exactly 3 heads? What is the probability of getting more than 3 heads?"
   ],
   "metadata": {
    "collapsed": false
   },
   "id": "2923ff6658e4df60"
  },
  {
   "cell_type": "code",
   "execution_count": 37,
   "outputs": [
    {
     "data": {
      "text/plain": "63762"
     },
     "execution_count": 37,
     "metadata": {},
     "output_type": "execute_result"
    }
   ],
   "source": [
    "n_coin = 8\n",
    "coin = ['H', 'T']\n",
    "coin_flip = np.random.choice(coin, (n_trials, n_coin))\n",
    "coin_flip = pd.DataFrame(coin_flip)\n",
    "\n",
    "three_heads = ((coin_flip == 'H').sum(axis=1)) == 3\n",
    "len(coin_flip[three_heads])\n",
    "\n",
    "three_or_more = coin_flip[((coin_flip == 'H').sum(axis=1)) > 3]\n",
    "len(three_or_more)"
   ],
   "metadata": {
    "collapsed": false,
    "ExecuteTime": {
     "end_time": "2023-11-14T17:00:22.480886Z",
     "start_time": "2023-11-14T17:00:22.361798Z"
    }
   },
   "id": "2828ba4032d48fcb"
  },
  {
   "cell_type": "code",
   "execution_count": 41,
   "outputs": [
    {
     "data": {
      "text/plain": "0.22"
     },
     "execution_count": 41,
     "metadata": {},
     "output_type": "execute_result"
    }
   ],
   "source": [
    "round(len(coin_flip[three_heads]) / n_trials, 2)"
   ],
   "metadata": {
    "collapsed": false,
    "ExecuteTime": {
     "end_time": "2023-11-14T17:02:00.443584Z",
     "start_time": "2023-11-14T17:02:00.389771Z"
    }
   },
   "id": "f59c1c4606992453"
  },
  {
   "cell_type": "code",
   "execution_count": 167,
   "outputs": [
    {
     "data": {
      "text/plain": "0.2172"
     },
     "execution_count": 167,
     "metadata": {},
     "output_type": "execute_result"
    }
   ],
   "source": [
    "three_heads.mean()\n"
   ],
   "metadata": {
    "collapsed": false,
    "ExecuteTime": {
     "end_time": "2023-11-14T20:46:27.986663Z",
     "start_time": "2023-11-14T20:46:27.942460Z"
    }
   },
   "id": "a0cdc0fca28e5b35"
  },
  {
   "cell_type": "code",
   "execution_count": 43,
   "outputs": [
    {
     "data": {
      "text/plain": "0.64"
     },
     "execution_count": 43,
     "metadata": {},
     "output_type": "execute_result"
    }
   ],
   "source": [
    "round(len(three_or_more) / n_trials, 2)"
   ],
   "metadata": {
    "collapsed": false,
    "ExecuteTime": {
     "end_time": "2023-11-14T17:02:43.075865Z",
     "start_time": "2023-11-14T17:02:43.041394Z"
    }
   },
   "id": "77c96c483f89c9b3"
  },
  {
   "cell_type": "markdown",
   "source": [
    "There are approximitely 3 web development cohorts for every 1 data science cohort at Codeup. Assuming that Codeup randomly selects an alumni to put on a billboard, what are the odds that the two billboards I drive past both have data science students on them?"
   ],
   "metadata": {
    "collapsed": false
   },
   "id": "f2d84fbc20643480"
  },
  {
   "cell_type": "code",
   "execution_count": 55,
   "outputs": [
    {
     "data": {
      "text/plain": "0.06"
     },
     "execution_count": 55,
     "metadata": {},
     "output_type": "execute_result"
    }
   ],
   "source": [
    "outcomes = ['w', 'w', 'w', 'd']\n",
    "trials = 2\n",
    "simulation = 100_000\n",
    "\n",
    "billboard = np.random.choice(outcomes, (simulation,trials))\n",
    "data_billboard = len(billboard[((billboard == 'd').sum(axis=1)) == 2]) \n",
    "round(data_billboard / simulation, 2)"
   ],
   "metadata": {
    "collapsed": false,
    "ExecuteTime": {
     "end_time": "2023-11-14T17:21:55.129422Z",
     "start_time": "2023-11-14T17:21:55.086087Z"
    }
   },
   "id": "452216d531d9bf51"
  },
  {
   "cell_type": "code",
   "execution_count": 171,
   "outputs": [
    {
     "data": {
      "text/plain": "0.06246"
     },
     "execution_count": 171,
     "metadata": {},
     "output_type": "execute_result"
    }
   ],
   "source": [
    "\n",
    "(((billboard == 'd').sum(axis=1)) == 2).mean()"
   ],
   "metadata": {
    "collapsed": false,
    "ExecuteTime": {
     "end_time": "2023-11-14T20:47:38.783425Z",
     "start_time": "2023-11-14T20:47:38.435794Z"
    }
   },
   "id": "345a5afc68cd69a3"
  },
  {
   "cell_type": "markdown",
   "source": [
    "Codeup students buy, on average, 3 poptart packages with a standard deviation of 1.5 a day from the snack vending machine. If on monday the machine is restocked with 17 poptart packages, how likely is it that I will be able to buy some poptarts on Friday afternoon? (Remember, if you have mean and standard deviation, use the np.random.normal) You'll need to make a judgement call on how to handle some of your values"
   ],
   "metadata": {
    "collapsed": false
   },
   "id": "5d7a25c6db4f60dd"
  },
  {
   "cell_type": "code",
   "execution_count": 176,
   "outputs": [
    {
     "data": {
      "text/plain": "0.62129"
     },
     "execution_count": 176,
     "metadata": {},
     "output_type": "execute_result"
    }
   ],
   "source": [
    "mean = 3\n",
    "std = 1.5\n",
    "days = 5\n",
    "stock = 17\n",
    "\n",
    "poptarts = np.random.normal(mean, std, (simulation, days)).sum(axis=1)\n",
    "available_poptarts = poptarts[np.random.normal(mean, std, (simulation, days)).sum(axis=1) < 16]\n",
    "\n",
    "len(available_poptarts) / simulation"
   ],
   "metadata": {
    "collapsed": false,
    "ExecuteTime": {
     "end_time": "2023-11-14T21:02:37.594050Z",
     "start_time": "2023-11-14T21:02:37.548262Z"
    }
   },
   "id": "cd6fe2daecdf6afe"
  },
  {
   "cell_type": "markdown",
   "source": [
    "Compare Heights\n",
    "\n",
    "    Men have an average height of 178 cm and standard deviation of 8cm.\n",
    "    \n",
    "    Women have a mean of 170, sd = 6cm.\n",
    "    \n",
    "    Since you have means and standard deviations, you can use np.random.normal to generate observations.\n",
    "    \n",
    "    If a man and woman are chosen at random, what is the likelihood the woman is taller than the man?"
   ],
   "metadata": {
    "collapsed": false
   },
   "id": "4f5b007c5a2e9977"
  },
  {
   "cell_type": "code",
   "execution_count": 83,
   "outputs": [
    {
     "data": {
      "text/plain": "0.21"
     },
     "execution_count": 83,
     "metadata": {},
     "output_type": "execute_result"
    }
   ],
   "source": [
    "men_avg = 178\n",
    "men_std = 8\n",
    "\n",
    "women_avg = 170\n",
    "women_std = 6\n",
    "\n",
    "men_height = np.random.normal(men_avg, men_std, simulation)\n",
    "women_height = np.random.normal(women_avg, women_std, simulation)\n",
    "\n",
    "women_taller = women_height > men_height\n",
    "round(women_taller.mean(), 2)"
   ],
   "metadata": {
    "collapsed": false,
    "ExecuteTime": {
     "end_time": "2023-11-14T18:11:19.129299Z",
     "start_time": "2023-11-14T18:11:19.092262Z"
    }
   },
   "id": "8c5650cea0ffa410"
  },
  {
   "cell_type": "markdown",
   "source": [
    "When installing anaconda on a student's computer, there's a 1 in 250 chance that the download is corrupted and the installation fails. What are the odds that after having 50 students download anaconda, no one has an installation issue? 100 students?\n",
    "\n",
    "What is the probability that we observe an installation issue within the first 150 students that download anaconda?\n",
    "\n",
    "How likely is it that 450 students all download anaconda without an issue?"
   ],
   "metadata": {
    "collapsed": false
   },
   "id": "a309226e6e4f4921"
  },
  {
   "cell_type": "code",
   "execution_count": 118,
   "outputs": [],
   "source": [
    "fail = 1 / 250\n",
    "students = 50\n",
    "\n",
    "x = np.random.random((simulation, students))"
   ],
   "metadata": {
    "collapsed": false,
    "ExecuteTime": {
     "end_time": "2023-11-14T19:42:12.399453Z",
     "start_time": "2023-11-14T19:42:12.310907Z"
    }
   },
   "id": "5779ceef7820dcd8"
  },
  {
   "cell_type": "code",
   "execution_count": 128,
   "outputs": [
    {
     "data": {
      "text/plain": "array([49, 49, 50, ..., 50, 50, 50])"
     },
     "execution_count": 128,
     "metadata": {},
     "output_type": "execute_result"
    }
   ],
   "source": [
    "(x  > fail).sum(axis=1)"
   ],
   "metadata": {
    "collapsed": false,
    "ExecuteTime": {
     "end_time": "2023-11-14T19:47:05.600276Z",
     "start_time": "2023-11-14T19:47:05.499456Z"
    }
   },
   "id": "77a24865dad3ab74"
  },
  {
   "cell_type": "code",
   "execution_count": 138,
   "outputs": [
    {
     "data": {
      "text/plain": "18379"
     },
     "execution_count": 138,
     "metadata": {},
     "output_type": "execute_result"
    }
   ],
   "source": [
    "len(x[(x  > fail).sum(axis=1) != 50])"
   ],
   "metadata": {
    "collapsed": false,
    "ExecuteTime": {
     "end_time": "2023-11-14T19:52:12.650161Z",
     "start_time": "2023-11-14T19:52:12.612721Z"
    }
   },
   "id": "e75eb4996000c0ac"
  },
  {
   "cell_type": "code",
   "execution_count": 136,
   "outputs": [
    {
     "data": {
      "text/plain": "0.81621"
     },
     "execution_count": 136,
     "metadata": {},
     "output_type": "execute_result"
    }
   ],
   "source": [
    "1 - (len(x[(x  > fail).sum(axis=1) != 50]) / simulation)"
   ],
   "metadata": {
    "collapsed": false,
    "ExecuteTime": {
     "end_time": "2023-11-14T19:51:19.659919Z",
     "start_time": "2023-11-14T19:51:19.555117Z"
    }
   },
   "id": "b01cb6e16ae9436c"
  },
  {
   "cell_type": "code",
   "execution_count": 145,
   "outputs": [
    {
     "data": {
      "text/plain": "0.66871"
     },
     "execution_count": 145,
     "metadata": {},
     "output_type": "execute_result"
    }
   ],
   "source": [
    "# 100 students\n",
    "x_100 = np.random.random((simulation, (students * 2)))\n",
    "1 - (len(x_100[(x_100  > fail).sum(axis=1) != 100]) / simulation)"
   ],
   "metadata": {
    "collapsed": false,
    "ExecuteTime": {
     "end_time": "2023-11-14T19:58:36.389212Z",
     "start_time": "2023-11-14T19:58:36.262003Z"
    }
   },
   "id": "f026975a8308a48a"
  },
  {
   "cell_type": "code",
   "execution_count": 148,
   "outputs": [
    {
     "data": {
      "text/plain": "0.45097"
     },
     "execution_count": 148,
     "metadata": {},
     "output_type": "execute_result"
    }
   ],
   "source": [
    "# prob of 150 students with a problem\n",
    "x_150 = np.random.random((simulation, (students * 3)))\n",
    "(len(x_150[(x_150  > fail).sum(axis=1) != 150]) / simulation)"
   ],
   "metadata": {
    "collapsed": false,
    "ExecuteTime": {
     "end_time": "2023-11-14T20:02:33.270879Z",
     "start_time": "2023-11-14T20:02:32.721570Z"
    }
   },
   "id": "56448943763cdcd6"
  },
  {
   "cell_type": "code",
   "execution_count": 150,
   "outputs": [
    {
     "data": {
      "text/plain": "array([[0.42477515, 0.39571317, 0.83224456, ..., 0.39373315, 0.32929786,\n        0.04205067],\n       [0.1187876 , 0.25744278, 0.74939314, ..., 0.40581623, 0.26687923,\n        0.91584778],\n       [0.86912179, 0.68522161, 0.60508864, ..., 0.88099323, 0.71466894,\n        0.60628804],\n       ...,\n       [0.0753595 , 0.03433014, 0.17054337, ..., 0.54753877, 0.00281245,\n        0.74604418],\n       [0.56948245, 0.12188018, 0.47554008, ..., 0.81137026, 0.38206976,\n        0.27445349],\n       [0.37173186, 0.59881275, 0.5819663 , ..., 0.90135589, 0.94725703,\n        0.92119332]])"
     },
     "execution_count": 150,
     "metadata": {},
     "output_type": "execute_result"
    }
   ],
   "source": [
    "x = np.random.random((simulation, 450))\n",
    "x"
   ],
   "metadata": {
    "collapsed": false,
    "ExecuteTime": {
     "end_time": "2023-11-14T20:04:52.460508Z",
     "start_time": "2023-11-14T20:04:52.069121Z"
    }
   },
   "id": "9fb590904c150659"
  },
  {
   "cell_type": "code",
   "execution_count": 153,
   "outputs": [
    {
     "data": {
      "text/plain": "array([False,  True, False, ..., False, False, False])"
     },
     "execution_count": 153,
     "metadata": {},
     "output_type": "execute_result"
    }
   ],
   "source": [
    "(x > fail).sum(axis=1)"
   ],
   "metadata": {
    "collapsed": false,
    "ExecuteTime": {
     "end_time": "2023-11-14T20:06:08.873236Z",
     "start_time": "2023-11-14T20:06:08.671732Z"
    }
   },
   "id": "11097e954eb6258c"
  },
  {
   "cell_type": "code",
   "execution_count": 154,
   "outputs": [
    {
     "data": {
      "text/plain": "array([False,  True, False, ..., False, False, False])"
     },
     "execution_count": 154,
     "metadata": {},
     "output_type": "execute_result"
    }
   ],
   "source": [
    "(x > fail).sum(axis=1) == 450"
   ],
   "metadata": {
    "collapsed": false,
    "ExecuteTime": {
     "end_time": "2023-11-14T20:06:24.196877Z",
     "start_time": "2023-11-14T20:06:23.967989Z"
    }
   },
   "id": "23fde196c8906a58"
  },
  {
   "cell_type": "code",
   "execution_count": 157,
   "outputs": [
    {
     "data": {
      "text/plain": "16491"
     },
     "execution_count": 157,
     "metadata": {},
     "output_type": "execute_result"
    }
   ],
   "source": [
    "len(x[(x > fail).sum(axis=1) == 450])"
   ],
   "metadata": {
    "collapsed": false,
    "ExecuteTime": {
     "end_time": "2023-11-14T20:07:53.304204Z",
     "start_time": "2023-11-14T20:07:52.999490Z"
    }
   },
   "id": "31373896b6ca53ee"
  },
  {
   "cell_type": "code",
   "execution_count": 159,
   "outputs": [
    {
     "data": {
      "text/plain": "0.16491"
     },
     "execution_count": 159,
     "metadata": {},
     "output_type": "execute_result"
    }
   ],
   "source": [
    "# 450 download without a problem\n",
    "(len(x[(x > fail).sum(axis=1) == 450])) / simulation"
   ],
   "metadata": {
    "collapsed": false,
    "ExecuteTime": {
     "end_time": "2023-11-14T20:09:26.197739Z",
     "start_time": "2023-11-14T20:09:25.899383Z"
    }
   },
   "id": "8662341c750d0933"
  },
  {
   "cell_type": "markdown",
   "source": [
    "There's a 70% chance on any given day that there will be at least one food truck at Travis Park. However, you haven't seen a food truck there in 3 days. How unlikely is this?\n",
    "\n",
    "How likely is it that a food truck will show up sometime this week?"
   ],
   "metadata": {
    "collapsed": false
   },
   "id": "7ba0aab1ba89e519"
  },
  {
   "cell_type": "code",
   "execution_count": 202,
   "outputs": [],
   "source": [
    "truck = np.random.random((simulation,3))\n",
    "yes_truck = truck < .70"
   ],
   "metadata": {
    "collapsed": false,
    "ExecuteTime": {
     "end_time": "2023-11-14T21:25:48.482490Z",
     "start_time": "2023-11-14T21:25:48.460812Z"
    }
   },
   "id": "f23dab635eeff81d"
  },
  {
   "cell_type": "code",
   "execution_count": 203,
   "outputs": [
    {
     "data": {
      "text/plain": "array([3, 1, 1, ..., 3, 2, 2])"
     },
     "execution_count": 203,
     "metadata": {},
     "output_type": "execute_result"
    }
   ],
   "source": [
    "yes_truck.sum(axis=1)"
   ],
   "metadata": {
    "collapsed": false,
    "ExecuteTime": {
     "end_time": "2023-11-14T21:25:48.632354Z",
     "start_time": "2023-11-14T21:25:48.613939Z"
    }
   },
   "id": "bd1a664866de7663"
  },
  {
   "cell_type": "code",
   "execution_count": 204,
   "outputs": [
    {
     "data": {
      "text/plain": "0.02777"
     },
     "execution_count": 204,
     "metadata": {},
     "output_type": "execute_result"
    }
   ],
   "source": [
    "(yes_truck.sum(axis=1) == 0).mean()"
   ],
   "metadata": {
    "collapsed": false,
    "ExecuteTime": {
     "end_time": "2023-11-14T21:25:48.816213Z",
     "start_time": "2023-11-14T21:25:48.812Z"
    }
   },
   "id": "1468a9517f4931a3"
  },
  {
   "cell_type": "markdown",
   "source": [
    "If 23 people are in the same room, what are the odds that two of them share a birthday? What if it's 20 people? 40?"
   ],
   "metadata": {
    "collapsed": false
   },
   "id": "64a1972d255e2d24"
  },
  {
   "cell_type": "code",
   "execution_count": 207,
   "outputs": [],
   "source": [
    "n_people = 23\n",
    "p  = list(range(365))\n",
    "\n",
    "birthdays = np.random.choice(p, (simulation, n_people))"
   ],
   "metadata": {
    "collapsed": false,
    "ExecuteTime": {
     "end_time": "2023-11-14T21:28:34.535009Z",
     "start_time": "2023-11-14T21:28:34.487052Z"
    }
   },
   "id": "4aea67584a7ef2f9"
  },
  {
   "cell_type": "code",
   "execution_count": 208,
   "outputs": [],
   "source": [
    "birthdays = pd.DataFrame(birthdays)"
   ],
   "metadata": {
    "collapsed": false,
    "ExecuteTime": {
     "end_time": "2023-11-14T21:28:58.863807Z",
     "start_time": "2023-11-14T21:28:58.754635Z"
    }
   },
   "id": "82353e74145f5681"
  },
  {
   "cell_type": "code",
   "execution_count": 210,
   "outputs": [
    {
     "data": {
      "text/plain": "0        23\n1        22\n2        22\n3        22\n4        22\n         ..\n99995    23\n99996    23\n99997    20\n99998    21\n99999    21\nLength: 100000, dtype: int64"
     },
     "execution_count": 210,
     "metadata": {},
     "output_type": "execute_result"
    }
   ],
   "source": [
    "birthdays.nunique(axis=1)"
   ],
   "metadata": {
    "collapsed": false,
    "ExecuteTime": {
     "end_time": "2023-11-14T21:29:38.493982Z",
     "start_time": "2023-11-14T21:29:36.423631Z"
    }
   },
   "id": "1a175a50d36c0b"
  },
  {
   "cell_type": "code",
   "execution_count": 211,
   "outputs": [
    {
     "data": {
      "text/plain": "0        False\n1         True\n2         True\n3         True\n4         True\n         ...  \n99995    False\n99996    False\n99997     True\n99998     True\n99999     True\nLength: 100000, dtype: bool"
     },
     "execution_count": 211,
     "metadata": {},
     "output_type": "execute_result"
    }
   ],
   "source": [
    "birthdays.nunique(axis=1) < n_people"
   ],
   "metadata": {
    "collapsed": false,
    "ExecuteTime": {
     "end_time": "2023-11-14T21:30:22.174195Z",
     "start_time": "2023-11-14T21:30:20.487528Z"
    }
   },
   "id": "259b586c92b3cf61"
  },
  {
   "cell_type": "code",
   "execution_count": 213,
   "outputs": [
    {
     "data": {
      "text/plain": "0.50913"
     },
     "execution_count": 213,
     "metadata": {},
     "output_type": "execute_result"
    }
   ],
   "source": [
    "(birthdays.nunique(axis=1) < n_people).mean()"
   ],
   "metadata": {
    "collapsed": false,
    "ExecuteTime": {
     "end_time": "2023-11-14T21:30:58.131188Z",
     "start_time": "2023-11-14T21:30:56.132962Z"
    }
   },
   "id": "d788ede3f3f1b3c3"
  },
  {
   "cell_type": "code",
   "execution_count": 215,
   "outputs": [
    {
     "data": {
      "text/plain": "0.003"
     },
     "execution_count": 215,
     "metadata": {},
     "output_type": "execute_result"
    }
   ],
   "source": [
    "n_people = 20\n",
    "(birthdays.nunique(axis=1) < n_people).mean()"
   ],
   "metadata": {
    "collapsed": false,
    "ExecuteTime": {
     "end_time": "2023-11-14T21:31:43.907363Z",
     "start_time": "2023-11-14T21:31:42.088004Z"
    }
   },
   "id": "70eb6ee0701a190f"
  },
  {
   "cell_type": "code",
   "execution_count": null,
   "outputs": [],
   "source": [
    "n_people = 40"
   ],
   "metadata": {
    "collapsed": false
   },
   "id": "a6dfeffbf511c1e1"
  }
 ],
 "metadata": {
  "kernelspec": {
   "display_name": "Python 3",
   "language": "python",
   "name": "python3"
  },
  "language_info": {
   "codemirror_mode": {
    "name": "ipython",
    "version": 2
   },
   "file_extension": ".py",
   "mimetype": "text/x-python",
   "name": "python",
   "nbconvert_exporter": "python",
   "pygments_lexer": "ipython2",
   "version": "2.7.6"
  }
 },
 "nbformat": 4,
 "nbformat_minor": 5
}
